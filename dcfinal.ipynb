{
 "cells": [
  {
   "cell_type": "code",
   "execution_count": 14,
   "id": "81269ddf-aba3-4a8a-986c-08821f1ffa56",
   "metadata": {},
   "outputs": [],
   "source": [
    "import pandas as pd\n",
    "from scipy.interpolate import interp1d\n",
    "import numpy as np"
   ]
  },
  {
   "cell_type": "code",
   "execution_count": 15,
   "id": "c8234c9b-f219-4b91-8c63-583697b8ea45",
   "metadata": {},
   "outputs": [],
   "source": [
    "menu_items = pd.read_csv(\"MenuItem.csv\")\n",
    "menu_pages = pd.read_csv(\"MenuPage.csv\")\n",
    "menus = pd.read_csv(\"Menu.csv\")\n",
    "dishes = pd.read_csv(\"Dish.csv\")"
   ]
  },
  {
   "cell_type": "code",
   "execution_count": 16,
   "id": "0ae34c97-2a61-4b19-816f-7a16623906be",
   "metadata": {},
   "outputs": [],
   "source": [
    "LUXURY = [\"caviar\", \"foie\", \"truffle\", \"lobster\", \"turtle\", \"pate\", \"mumm\", \"champagne\", \"quenelle\", \"duxelle\"]\n",
    "STAPLE = [\"soup\", \"gumbo\", \"rice\", \"potato\", \"apple\", \"banana\", \"onion\", \"beef\", \"milk\", \"oats\"]\n",
    "CPI_RAW = {1890: 9.1, 1900: 8.4, 1910: 9.5, 1920: 20.0, 1930: 17.1, 1940: 14.0}\n",
    "z = 60  # minimum count for each categories"
   ]
  },
  {
   "cell_type": "code",
   "execution_count": 17,
   "id": "24e1edff-1d67-4db8-bec3-17f49cf958db",
   "metadata": {},
   "outputs": [
    {
     "ename": "KeyError",
     "evalue": "\"['id'] not found in axis\"",
     "output_type": "error",
     "traceback": [
      "\u001b[0;31m---------------------------------------------------------------------------\u001b[0m",
      "\u001b[0;31mKeyError\u001b[0m                                  Traceback (most recent call last)",
      "Cell \u001b[0;32mIn[17], line 2\u001b[0m\n\u001b[1;32m      1\u001b[0m menu_items \u001b[38;5;241m=\u001b[39m (\n\u001b[0;32m----> 2\u001b[0m     \u001b[43mmenu_items\u001b[49m\n\u001b[1;32m      3\u001b[0m \u001b[43m      \u001b[49m\u001b[38;5;241;43m.\u001b[39;49m\u001b[43mmerge\u001b[49m\u001b[43m(\u001b[49m\u001b[43mdishes\u001b[49m\u001b[43m[\u001b[49m\u001b[43m[\u001b[49m\u001b[38;5;124;43m'\u001b[39;49m\u001b[38;5;124;43mid\u001b[39;49m\u001b[38;5;124;43m'\u001b[39;49m\u001b[43m,\u001b[49m\u001b[43m \u001b[49m\u001b[38;5;124;43m'\u001b[39;49m\u001b[38;5;124;43mname\u001b[39;49m\u001b[38;5;124;43m'\u001b[39;49m\u001b[43m]\u001b[49m\u001b[43m]\u001b[49m\u001b[43m,\u001b[49m\u001b[43m            \u001b[49m\u001b[43mleft_on\u001b[49m\u001b[38;5;241;43m=\u001b[39;49m\u001b[38;5;124;43m'\u001b[39;49m\u001b[38;5;124;43mdish_id\u001b[39;49m\u001b[38;5;124;43m'\u001b[39;49m\u001b[43m,\u001b[49m\u001b[43m     \u001b[49m\u001b[43mright_on\u001b[49m\u001b[38;5;241;43m=\u001b[39;49m\u001b[38;5;124;43m'\u001b[39;49m\u001b[38;5;124;43mid\u001b[39;49m\u001b[38;5;124;43m'\u001b[39;49m\u001b[43m)\u001b[49m\u001b[38;5;241;43m.\u001b[39;49m\u001b[43mdrop\u001b[49m\u001b[43m(\u001b[49m\u001b[43mcolumns\u001b[49m\u001b[38;5;241;43m=\u001b[39;49m\u001b[38;5;124;43m'\u001b[39;49m\u001b[38;5;124;43mid\u001b[39;49m\u001b[38;5;124;43m'\u001b[39;49m\u001b[43m)\u001b[49m\n\u001b[1;32m      4\u001b[0m       \u001b[38;5;241m.\u001b[39mmerge(menu_pages[[\u001b[38;5;124m'\u001b[39m\u001b[38;5;124mid\u001b[39m\u001b[38;5;124m'\u001b[39m, \u001b[38;5;124m'\u001b[39m\u001b[38;5;124mmenu_id\u001b[39m\u001b[38;5;124m'\u001b[39m]],     left_on\u001b[38;5;241m=\u001b[39m\u001b[38;5;124m'\u001b[39m\u001b[38;5;124mmenu_page_id\u001b[39m\u001b[38;5;124m'\u001b[39m,right_on\u001b[38;5;241m=\u001b[39m\u001b[38;5;124m'\u001b[39m\u001b[38;5;124mid\u001b[39m\u001b[38;5;124m'\u001b[39m)\u001b[38;5;241m.\u001b[39mdrop(columns\u001b[38;5;241m=\u001b[39m\u001b[38;5;124m'\u001b[39m\u001b[38;5;124mid\u001b[39m\u001b[38;5;124m'\u001b[39m)\n\u001b[1;32m      5\u001b[0m       \u001b[38;5;241m.\u001b[39mmerge(menus[[\u001b[38;5;124m'\u001b[39m\u001b[38;5;124mid\u001b[39m\u001b[38;5;124m'\u001b[39m, \u001b[38;5;124m'\u001b[39m\u001b[38;5;124mdate\u001b[39m\u001b[38;5;124m'\u001b[39m, \u001b[38;5;124m'\u001b[39m\u001b[38;5;124mcurrency\u001b[39m\u001b[38;5;124m'\u001b[39m]], left_on\u001b[38;5;241m=\u001b[39m\u001b[38;5;124m'\u001b[39m\u001b[38;5;124mmenu_id\u001b[39m\u001b[38;5;124m'\u001b[39m,     right_on\u001b[38;5;241m=\u001b[39m\u001b[38;5;124m'\u001b[39m\u001b[38;5;124mid\u001b[39m\u001b[38;5;124m'\u001b[39m)\u001b[38;5;241m.\u001b[39mdrop(columns\u001b[38;5;241m=\u001b[39m\u001b[38;5;124m'\u001b[39m\u001b[38;5;124mid\u001b[39m\u001b[38;5;124m'\u001b[39m)\n\u001b[1;32m      6\u001b[0m )\n\u001b[1;32m      8\u001b[0m \u001b[38;5;66;03m#change to year\u001b[39;00m\n\u001b[1;32m      9\u001b[0m menu_items[\u001b[38;5;124m\"\u001b[39m\u001b[38;5;124myear_extracted\u001b[39m\u001b[38;5;124m\"\u001b[39m] \u001b[38;5;241m=\u001b[39m pd\u001b[38;5;241m.\u001b[39mto_datetime(menu_items[\u001b[38;5;124m\"\u001b[39m\u001b[38;5;124mdate\u001b[39m\u001b[38;5;124m\"\u001b[39m], errors\u001b[38;5;241m=\u001b[39m\u001b[38;5;124m'\u001b[39m\u001b[38;5;124mcoerce\u001b[39m\u001b[38;5;124m'\u001b[39m)\u001b[38;5;241m.\u001b[39mdt\u001b[38;5;241m.\u001b[39myear\u001b[38;5;241m.\u001b[39mastype(\u001b[38;5;124m\"\u001b[39m\u001b[38;5;124mInt64\u001b[39m\u001b[38;5;124m\"\u001b[39m)\n",
      "File \u001b[0;32m~/Library/Python/3.9/lib/python/site-packages/pandas/core/frame.py:5581\u001b[0m, in \u001b[0;36mDataFrame.drop\u001b[0;34m(self, labels, axis, index, columns, level, inplace, errors)\u001b[0m\n\u001b[1;32m   5433\u001b[0m \u001b[38;5;28;01mdef\u001b[39;00m \u001b[38;5;21mdrop\u001b[39m(\n\u001b[1;32m   5434\u001b[0m     \u001b[38;5;28mself\u001b[39m,\n\u001b[1;32m   5435\u001b[0m     labels: IndexLabel \u001b[38;5;241m|\u001b[39m \u001b[38;5;28;01mNone\u001b[39;00m \u001b[38;5;241m=\u001b[39m \u001b[38;5;28;01mNone\u001b[39;00m,\n\u001b[0;32m   (...)\u001b[0m\n\u001b[1;32m   5442\u001b[0m     errors: IgnoreRaise \u001b[38;5;241m=\u001b[39m \u001b[38;5;124m\"\u001b[39m\u001b[38;5;124mraise\u001b[39m\u001b[38;5;124m\"\u001b[39m,\n\u001b[1;32m   5443\u001b[0m ) \u001b[38;5;241m-\u001b[39m\u001b[38;5;241m>\u001b[39m DataFrame \u001b[38;5;241m|\u001b[39m \u001b[38;5;28;01mNone\u001b[39;00m:\n\u001b[1;32m   5444\u001b[0m \u001b[38;5;250m    \u001b[39m\u001b[38;5;124;03m\"\"\"\u001b[39;00m\n\u001b[1;32m   5445\u001b[0m \u001b[38;5;124;03m    Drop specified labels from rows or columns.\u001b[39;00m\n\u001b[1;32m   5446\u001b[0m \n\u001b[0;32m   (...)\u001b[0m\n\u001b[1;32m   5579\u001b[0m \u001b[38;5;124;03m            weight  1.0     0.8\u001b[39;00m\n\u001b[1;32m   5580\u001b[0m \u001b[38;5;124;03m    \"\"\"\u001b[39;00m\n\u001b[0;32m-> 5581\u001b[0m     \u001b[38;5;28;01mreturn\u001b[39;00m \u001b[38;5;28;43msuper\u001b[39;49m\u001b[43m(\u001b[49m\u001b[43m)\u001b[49m\u001b[38;5;241;43m.\u001b[39;49m\u001b[43mdrop\u001b[49m\u001b[43m(\u001b[49m\n\u001b[1;32m   5582\u001b[0m \u001b[43m        \u001b[49m\u001b[43mlabels\u001b[49m\u001b[38;5;241;43m=\u001b[39;49m\u001b[43mlabels\u001b[49m\u001b[43m,\u001b[49m\n\u001b[1;32m   5583\u001b[0m \u001b[43m        \u001b[49m\u001b[43maxis\u001b[49m\u001b[38;5;241;43m=\u001b[39;49m\u001b[43maxis\u001b[49m\u001b[43m,\u001b[49m\n\u001b[1;32m   5584\u001b[0m \u001b[43m        \u001b[49m\u001b[43mindex\u001b[49m\u001b[38;5;241;43m=\u001b[39;49m\u001b[43mindex\u001b[49m\u001b[43m,\u001b[49m\n\u001b[1;32m   5585\u001b[0m \u001b[43m        \u001b[49m\u001b[43mcolumns\u001b[49m\u001b[38;5;241;43m=\u001b[39;49m\u001b[43mcolumns\u001b[49m\u001b[43m,\u001b[49m\n\u001b[1;32m   5586\u001b[0m \u001b[43m        \u001b[49m\u001b[43mlevel\u001b[49m\u001b[38;5;241;43m=\u001b[39;49m\u001b[43mlevel\u001b[49m\u001b[43m,\u001b[49m\n\u001b[1;32m   5587\u001b[0m \u001b[43m        \u001b[49m\u001b[43minplace\u001b[49m\u001b[38;5;241;43m=\u001b[39;49m\u001b[43minplace\u001b[49m\u001b[43m,\u001b[49m\n\u001b[1;32m   5588\u001b[0m \u001b[43m        \u001b[49m\u001b[43merrors\u001b[49m\u001b[38;5;241;43m=\u001b[39;49m\u001b[43merrors\u001b[49m\u001b[43m,\u001b[49m\n\u001b[1;32m   5589\u001b[0m \u001b[43m    \u001b[49m\u001b[43m)\u001b[49m\n",
      "File \u001b[0;32m~/Library/Python/3.9/lib/python/site-packages/pandas/core/generic.py:4788\u001b[0m, in \u001b[0;36mNDFrame.drop\u001b[0;34m(self, labels, axis, index, columns, level, inplace, errors)\u001b[0m\n\u001b[1;32m   4786\u001b[0m \u001b[38;5;28;01mfor\u001b[39;00m axis, labels \u001b[38;5;129;01min\u001b[39;00m axes\u001b[38;5;241m.\u001b[39mitems():\n\u001b[1;32m   4787\u001b[0m     \u001b[38;5;28;01mif\u001b[39;00m labels \u001b[38;5;129;01mis\u001b[39;00m \u001b[38;5;129;01mnot\u001b[39;00m \u001b[38;5;28;01mNone\u001b[39;00m:\n\u001b[0;32m-> 4788\u001b[0m         obj \u001b[38;5;241m=\u001b[39m \u001b[43mobj\u001b[49m\u001b[38;5;241;43m.\u001b[39;49m\u001b[43m_drop_axis\u001b[49m\u001b[43m(\u001b[49m\u001b[43mlabels\u001b[49m\u001b[43m,\u001b[49m\u001b[43m \u001b[49m\u001b[43maxis\u001b[49m\u001b[43m,\u001b[49m\u001b[43m \u001b[49m\u001b[43mlevel\u001b[49m\u001b[38;5;241;43m=\u001b[39;49m\u001b[43mlevel\u001b[49m\u001b[43m,\u001b[49m\u001b[43m \u001b[49m\u001b[43merrors\u001b[49m\u001b[38;5;241;43m=\u001b[39;49m\u001b[43merrors\u001b[49m\u001b[43m)\u001b[49m\n\u001b[1;32m   4790\u001b[0m \u001b[38;5;28;01mif\u001b[39;00m inplace:\n\u001b[1;32m   4791\u001b[0m     \u001b[38;5;28mself\u001b[39m\u001b[38;5;241m.\u001b[39m_update_inplace(obj)\n",
      "File \u001b[0;32m~/Library/Python/3.9/lib/python/site-packages/pandas/core/generic.py:4830\u001b[0m, in \u001b[0;36mNDFrame._drop_axis\u001b[0;34m(self, labels, axis, level, errors, only_slice)\u001b[0m\n\u001b[1;32m   4828\u001b[0m         new_axis \u001b[38;5;241m=\u001b[39m axis\u001b[38;5;241m.\u001b[39mdrop(labels, level\u001b[38;5;241m=\u001b[39mlevel, errors\u001b[38;5;241m=\u001b[39merrors)\n\u001b[1;32m   4829\u001b[0m     \u001b[38;5;28;01melse\u001b[39;00m:\n\u001b[0;32m-> 4830\u001b[0m         new_axis \u001b[38;5;241m=\u001b[39m \u001b[43maxis\u001b[49m\u001b[38;5;241;43m.\u001b[39;49m\u001b[43mdrop\u001b[49m\u001b[43m(\u001b[49m\u001b[43mlabels\u001b[49m\u001b[43m,\u001b[49m\u001b[43m \u001b[49m\u001b[43merrors\u001b[49m\u001b[38;5;241;43m=\u001b[39;49m\u001b[43merrors\u001b[49m\u001b[43m)\u001b[49m\n\u001b[1;32m   4831\u001b[0m     indexer \u001b[38;5;241m=\u001b[39m axis\u001b[38;5;241m.\u001b[39mget_indexer(new_axis)\n\u001b[1;32m   4833\u001b[0m \u001b[38;5;66;03m# Case for non-unique axis\u001b[39;00m\n\u001b[1;32m   4834\u001b[0m \u001b[38;5;28;01melse\u001b[39;00m:\n",
      "File \u001b[0;32m~/Library/Python/3.9/lib/python/site-packages/pandas/core/indexes/base.py:7070\u001b[0m, in \u001b[0;36mIndex.drop\u001b[0;34m(self, labels, errors)\u001b[0m\n\u001b[1;32m   7068\u001b[0m \u001b[38;5;28;01mif\u001b[39;00m mask\u001b[38;5;241m.\u001b[39many():\n\u001b[1;32m   7069\u001b[0m     \u001b[38;5;28;01mif\u001b[39;00m errors \u001b[38;5;241m!=\u001b[39m \u001b[38;5;124m\"\u001b[39m\u001b[38;5;124mignore\u001b[39m\u001b[38;5;124m\"\u001b[39m:\n\u001b[0;32m-> 7070\u001b[0m         \u001b[38;5;28;01mraise\u001b[39;00m \u001b[38;5;167;01mKeyError\u001b[39;00m(\u001b[38;5;124mf\u001b[39m\u001b[38;5;124m\"\u001b[39m\u001b[38;5;132;01m{\u001b[39;00mlabels[mask]\u001b[38;5;241m.\u001b[39mtolist()\u001b[38;5;132;01m}\u001b[39;00m\u001b[38;5;124m not found in axis\u001b[39m\u001b[38;5;124m\"\u001b[39m)\n\u001b[1;32m   7071\u001b[0m     indexer \u001b[38;5;241m=\u001b[39m indexer[\u001b[38;5;241m~\u001b[39mmask]\n\u001b[1;32m   7072\u001b[0m \u001b[38;5;28;01mreturn\u001b[39;00m \u001b[38;5;28mself\u001b[39m\u001b[38;5;241m.\u001b[39mdelete(indexer)\n",
      "\u001b[0;31mKeyError\u001b[0m: \"['id'] not found in axis\""
     ]
    }
   ],
   "source": [
    "menu_items = menu_items.merge(dishes[['id', 'name']], left_on='dish_id', right_on='id', suffixes=('', '_dish'))\n",
    "menu_items = menu_items.merge(menu_pages[['id', 'menu_id']], left_on='menu_page_id', right_on='id', suffixes=('', '_page'))\n",
    "menu_items = menu_items.merge(menus[['id', 'date']], left_on='menu_id', right_on='id', suffixes=('', '_menu'))\n",
    "menu_items = menu_items.merge(menus[[\"id\", \"currency\"]], left_on=\"menu_id\", right_on=\"id\", suffixes=('', '_menu_currency'))\n",
    "\n",
    "#change to year\n",
    "menu_items[\"year_extracted\"] = pd.to_datetime(menu_items[\"date\"], errors='coerce').dt.year.astype(\"Int64\")\n",
    "#remove rows missing data\n",
    "menu_items = menu_items.dropna(subset=[\"price\", \"year_extracted\", \"name\"])"
   ]
  },
  {
   "cell_type": "code",
   "execution_count": 13,
   "id": "4cbdac90-bc4f-494e-9893-456056f14169",
   "metadata": {},
   "outputs": [
    {
     "name": "stdout",
     "output_type": "stream",
     "text": [
      "Rows kept before USD-only filter: 132746\n"
     ]
    }
   ],
   "source": [
    "print(\"Rows kept before USD-only filter:\", len(menu_items))"
   ]
  },
  {
   "cell_type": "code",
   "execution_count": 6,
   "id": "edf39299-f2c6-4214-bafe-9382fadb155e",
   "metadata": {},
   "outputs": [
    {
     "name": "stdout",
     "output_type": "stream",
     "text": [
      "Rows kept after USD-only filter: 777959\n"
     ]
    }
   ],
   "source": [
    "#only keep USD\n",
    "menu_items = menu_items[menu_items[\"currency\"].isin([\"Dollars\", \"Cents\"])].copy()\n",
    "\n",
    "#covert cents to dollars\n",
    "menu_items.loc[menu_items[\"currency\"] == \"Cents\", \"price\"] = (\n",
    "    menu_items.loc[menu_items[\"currency\"] == \"Cents\", \"price\"] / 100.0\n",
    ")\n",
    "\n",
    "# use dollards\n",
    "menu_items.loc[menu_items[\"currency\"] == \"Cents\", \"currency\"] = \"Dollars\"\n",
    "\n",
    "#  sanity check\n",
    "print(\"Rows kept after USD-only filter:\", len(menu_items))"
   ]
  },
  {
   "cell_type": "code",
   "execution_count": 7,
   "id": "bf6b8633-47c2-450d-bcd7-bfac16170bbf",
   "metadata": {},
   "outputs": [
    {
     "name": "stdout",
     "output_type": "stream",
     "text": [
      "category\n",
      "staple    107865\n",
      "luxury     24881\n",
      "Name: count, dtype: int64\n"
     ]
    }
   ],
   "source": [
    "#create categories\n",
    "def categorize(name):\n",
    "    \n",
    "    name = str(name).lower()\n",
    "    \n",
    "    for kw in LUXURY:\n",
    "        if kw in name:\n",
    "            return \"luxury\"\n",
    "    for kw in STAPLE:\n",
    "        if kw in name:\n",
    "            return \"staple\"\n",
    "    return \"unknown\"\n",
    "\n",
    "menu_items[\"category\"] = menu_items[\"name\"].apply(categorize)\n",
    "menu_items = menu_items[menu_items[\"category\"].isin([\"luxury\", \"staple\"])]\n",
    "print(menu_items['category'].value_counts())  # see count luxury vs. staple"
   ]
  },
  {
   "cell_type": "code",
   "execution_count": 11,
   "id": "4c072b85-8cab-4117-884f-a832d88bb7cd",
   "metadata": {},
   "outputs": [],
   "source": [
    "#Adjust for inflation \n",
    "years = np.array(list(CPI_RAW.keys()))\n",
    "cpi_vals = np.array(list(CPI_RAW.values()))\n",
    "\n",
    "#func to extrapolate in between year values \n",
    "cpi_func = interp1d(years, cpi_vals, kind='linear', fill_value='extrapolate')\n",
    "\n",
    "menu_items[\"cpi\"] = menu_items[\"year_extracted\"].apply(lambda y: cpi_func(y))\n",
    "menu_items[\"real_price\"] = menu_items[\"price\"] / menu_items[\"cpi\"] * 100"
   ]
  },
  {
   "cell_type": "code",
   "execution_count": 9,
   "id": "2c140bb0-6783-4d43-8f5c-fdb33238d800",
   "metadata": {},
   "outputs": [
    {
     "name": "stdout",
     "output_type": "stream",
     "text": [
      "category        luxury  staple\n",
      "year_extracted                \n",
      "1851                 7       0\n",
      "1852                17       1\n",
      "1855                 1       0\n",
      "1856                14       0\n",
      "1857                 7       0\n",
      "...                ...     ...\n",
      "2004                 0       5\n",
      "2005                 5       2\n",
      "2006                 5       6\n",
      "2008                15       9\n",
      "2012                11      18\n",
      "\n",
      "[130 rows x 2 columns]\n"
     ]
    }
   ],
   "source": [
    "counts = (menu_items.groupby(\"year_extracted\")[\"category\"].value_counts().unstack().fillna(0).astype(int))\n",
    "print(counts)"
   ]
  },
  {
   "cell_type": "code",
   "execution_count": 10,
   "id": "8d5feaa3-a964-4e67-b64a-7a41570e79cb",
   "metadata": {},
   "outputs": [
    {
     "name": "stdout",
     "output_type": "stream",
     "text": [
      "category        luxury  staple\n",
      "year_extracted                \n",
      "1892               121     437\n",
      "1893                65      95\n",
      "1896               114     206\n",
      "1898                75     192\n",
      "1899               137     448\n",
      "1900              3929   13417\n",
      "1901              1364    4770\n",
      "1905               402    1285\n",
      "1906               666    2160\n",
      "1907               413    1800\n",
      "1912               439    1272\n",
      "1913              1132    6666\n",
      "1914              2715   12682\n",
      "1915               431    2036\n",
      "1916               158     686\n",
      "1917              2497   12724\n",
      "1918              2508    7853\n",
      "1919               216    1072\n",
      "1920               196     900\n",
      "1933              1517   10374\n",
      "1937                65     624\n",
      "1938               153     784\n",
      "1939               198    1100\n",
      "1940               274    1634\n"
     ]
    }
   ],
   "source": [
    "valid_years = counts[\n",
    "    (counts[\"luxury\"] >= z) & (counts[\"staple\"] >= z)\n",
    "].index\n",
    "\n",
    "menu_items_filtered = menu_items[menu_items[\"year_extracted\"].isin(valid_years)]\n",
    "\n",
    "filtered_counts = counts.loc[valid_years]\n",
    "filtered_counts = filtered_counts[(filtered_counts.index >= 1890) & (filtered_counts.index <= 1940)]\n",
    "\n",
    "print(filtered_counts)"
   ]
  },
  {
   "cell_type": "code",
   "execution_count": null,
   "id": "2b52ad40-0ff7-489a-994b-a890ab31a0b7",
   "metadata": {},
   "outputs": [],
   "source": [
    "price_by_year = (\n",
    "    menu_items_filtered\n",
    "    .groupby([\"year_extracted\", \"category\"])[\"real_price\"]\n",
    "    .mean()\n",
    "    .unstack()\n",
    ")\n",
    "\n",
    "price_by_year[\"premium\"] = price_by_year[\"luxury\"] - price_by_year[\"staple\"]\n",
    "price_by_year = price_by_year[(price_by_year.index >= 1890) & (price_by_year.index <= 1940)]\n",
    "price_by_year = price_by_year.dropna()\n",
    "print(price_by_year)"
   ]
  },
  {
   "cell_type": "code",
   "execution_count": null,
   "id": "8446d91e-2210-4b1b-8eff-8244b18b3ec3",
   "metadata": {},
   "outputs": [],
   "source": [
    "import matplotlib.pyplot as plt\n",
    "\n",
    "plt.figure(figsize=(12, 6))\n",
    "\n",
    "plt.plot(price_by_year.index, price_by_year[\"luxury\"], label=\"Luxury\", marker='o')\n",
    "plt.plot(price_by_year.index, price_by_year[\"staple\"], label=\"Staple\", marker='o')\n",
    "plt.plot(price_by_year.index, price_by_year[\"premium\"], label=\"Premium\", linestyle='--', color='gray')\n",
    "\n",
    "plt.title(\"Real Average Prices: Luxury vs Staple Dishes From 1890 to 1940\")\n",
    "plt.xlabel(\"Year\")\n",
    "plt.ylabel(\"$Price (inflation-adjusted)\")\n",
    "plt.legend()\n",
    "plt.grid(True)\n",
    "plt.tight_layout()\n",
    "plt.show()"
   ]
  },
  {
   "cell_type": "code",
   "execution_count": null,
   "id": "c128cc4f-c4fe-4edd-a71d-df78ec3a9dac",
   "metadata": {},
   "outputs": [],
   "source": []
  },
  {
   "cell_type": "code",
   "execution_count": null,
   "id": "16fcc081-c93d-4176-b7f8-68041f28b617",
   "metadata": {},
   "outputs": [],
   "source": []
  }
 ],
 "metadata": {
  "kernelspec": {
   "display_name": "Python 3 (ipykernel)",
   "language": "python",
   "name": "python3"
  },
  "language_info": {
   "codemirror_mode": {
    "name": "ipython",
    "version": 3
   },
   "file_extension": ".py",
   "mimetype": "text/x-python",
   "name": "python",
   "nbconvert_exporter": "python",
   "pygments_lexer": "ipython3",
   "version": "3.9.6"
  }
 },
 "nbformat": 4,
 "nbformat_minor": 5
}
